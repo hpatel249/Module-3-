{
 "cells": [
  {
   "cell_type": "code",
   "execution_count": 1,
   "id": "6d52080c",
   "metadata": {},
   "outputs": [],
   "source": [
    "import csv\n",
    "import os"
   ]
  },
  {
   "cell_type": "code",
   "execution_count": 2,
   "id": "95a1ef05",
   "metadata": {},
   "outputs": [],
   "source": [
    "file_to_load = os.path.join(\"resources\", \"C:\\\\Users\\\\Admin\\\\Downloads\\\\election_results.csv\")"
   ]
  },
  {
   "cell_type": "code",
   "execution_count": 3,
   "id": "d618833e",
   "metadata": {},
   "outputs": [],
   "source": [
    "file_to_save = os.path.join(\"analysis\", \"C:\\\\Users\\\\Admin\\\\Downloadselection_analysis.txt\")"
   ]
  },
  {
   "cell_type": "code",
   "execution_count": 4,
   "id": "0c670f0b",
   "metadata": {},
   "outputs": [],
   "source": [
    "# Initialize a total vote counter.\n",
    "total_votes = 0\n",
    "\n",
    "# Candidate Options and candidate votes\n",
    "candidate_options = []\n",
    "candidate_votes = {}\n",
    "\n",
    "# Track the winning candidate, vote count, and percentage.\n",
    "winning_candidate = \"\"\n",
    "winning_count = 0\n",
    "winning_percentage = 0"
   ]
  },
  {
   "cell_type": "code",
   "execution_count": 5,
   "id": "8b7a8e5d",
   "metadata": {},
   "outputs": [
    {
     "name": "stdout",
     "output_type": "stream",
     "text": [
      "<_csv.reader object at 0x0000014DA9DF9B20>\n",
      "['Ballot ID', 'County', 'Candidate']\n",
      "\n",
      "Election Results\n",
      "-------------------------\n",
      "Total Votes: 369,711\n",
      "-------------------------\n",
      "Charles Casper Stockham: 23.0% (85,213)\n",
      "\n",
      "Diana DeGette: 73.8% (272,892)\n",
      "\n",
      "Raymon Anthony Doane: 3.1% (11,606)\n",
      "\n",
      "-------------------------\n",
      "Winner: Diana DeGette\n",
      "Winning Vote Count: 272,892\n",
      "Winning Percentage: 73.8%\n",
      "-------------------------\n",
      "\n"
     ]
    }
   ],
   "source": [
    "with open(file_to_load) as election_data:\n",
    "    # TODO:\n",
    "    # Read and analyze the data here.\n",
    "    # Read the file object with the reader function.\n",
    "    file_reader = csv.reader(election_data)\n",
    "    print((file_reader))\n",
    "    headers = next(file_reader)\n",
    "    print(headers)\n",
    "    for row in file_reader:\n",
    "        total_votes += 1\n",
    "        candidate_name = row[2]\n",
    "        if candidate_name not in candidate_options:\n",
    "            candidate_options.append(candidate_name)\n",
    "            candidate_votes[candidate_name] = 0\n",
    "        candidate_votes[candidate_name] += 1\n",
    "with open(file_to_save, \"w\") as txt_file:\n",
    "    election_results = (\n",
    "        f\"\\nElection Results\\n\"\n",
    "        f\"-------------------------\\n\"\n",
    "        f\"Total Votes: {total_votes:,}\\n\"\n",
    "        f\"-------------------------\\n\"\n",
    "    )\n",
    "    print(election_results, end=\"\")\n",
    "    txt_file.write(election_results)\n",
    "    for candidate_name in candidate_votes:\n",
    "        votes = candidate_votes[candidate_name]\n",
    "        vote_percentage = float(votes) / float(total_votes) * 100\n",
    "        candidate_results = f\"{candidate_name}: {vote_percentage:.1f}% ({votes:,})\\n\"\n",
    "        print(candidate_results)\n",
    "        txt_file.write(candidate_results)\n",
    "        if (votes > winning_count) and (vote_percentage > winning_percentage):\n",
    "            winning_count = votes\n",
    "            winning_candidate = candidate_name\n",
    "            winning_percentage = vote_percentage\n",
    "    winning_candidate_summary = (\n",
    "        f\"-------------------------\\n\"\n",
    "        f\"Winner: {winning_candidate}\\n\"\n",
    "        f\"Winning Vote Count: {winning_count:,}\\n\"\n",
    "        f\"Winning Percentage: {winning_percentage:.1f}%\\n\"\n",
    "        f\"-------------------------\\n\"\n",
    "    )\n",
    "    print(winning_candidate_summary)\n",
    "    txt_file.write(winning_candidate_summary)\n"
   ]
  },
  {
   "cell_type": "code",
   "execution_count": null,
   "id": "776c5c26",
   "metadata": {},
   "outputs": [],
   "source": []
  },
  {
   "cell_type": "code",
   "execution_count": null,
   "id": "2b5bd60d",
   "metadata": {},
   "outputs": [],
   "source": []
  }
 ],
 "metadata": {
  "kernelspec": {
   "display_name": "Python 3 (ipykernel)",
   "language": "python",
   "name": "python3"
  },
  "language_info": {
   "codemirror_mode": {
    "name": "ipython",
    "version": 3
   },
   "file_extension": ".py",
   "mimetype": "text/x-python",
   "name": "python",
   "nbconvert_exporter": "python",
   "pygments_lexer": "ipython3",
   "version": "3.8.10"
  }
 },
 "nbformat": 4,
 "nbformat_minor": 5
}
